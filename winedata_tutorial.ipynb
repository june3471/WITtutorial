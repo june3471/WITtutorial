{
 "cells": [
  {
   "cell_type": "code",
   "execution_count": 1,
   "metadata": {},
   "outputs": [],
   "source": [
    "import pandas as pd\n",
    "import tensorflow as tf\n"
   ]
  },
  {
   "cell_type": "code",
   "execution_count": 30,
   "metadata": {},
   "outputs": [],
   "source": [
    "data = pd.read_csv(\"data/winequality_red.csv\")"
   ]
  },
  {
   "cell_type": "code",
   "execution_count": 31,
   "metadata": {},
   "outputs": [],
   "source": [
    "rep_cols = []\n",
    "for i in data.columns:\n",
    "    rep_cols.append(i.replace(\" \",\"\"))"
   ]
  },
  {
   "cell_type": "code",
   "execution_count": 32,
   "metadata": {},
   "outputs": [],
   "source": [
    "data.columns = rep_cols"
   ]
  },
  {
   "cell_type": "code",
   "execution_count": 33,
   "metadata": {},
   "outputs": [],
   "source": [
    "cols = list(data.columns)\n",
    "label_col = cols[-1]\n",
    "input_col = cols[:-1]"
   ]
  },
  {
   "cell_type": "code",
   "execution_count": 34,
   "metadata": {},
   "outputs": [],
   "source": [
    "feature_columns = []\n",
    "feature_input = {}\n",
    "for header in input_col:\n",
    "    feature_columns.append(tf.feature_column.numeric_column(header))\n",
    "    feature_input[header] = tf.keras.Input(shape=(1,),dtype=tf.float64, name=header)\n",
    "    \n",
    "#label = tf.feature_column.categorical_column_with_vocabulary_list(\n",
    "#      'y', ['3', '4', '5', '6', '7', '8'])\n",
    "#label_one_hot = tf.feature_column.indicator_column(label)\n",
    "#feature_input['y'] = tf.keras.Input(shape=(1,),dtype=tf.string,name=header)"
   ]
  },
  {
   "cell_type": "code",
   "execution_count": 35,
   "metadata": {},
   "outputs": [],
   "source": [
    "from sklearn.model_selection import train_test_split\n",
    "\n",
    "train, test = train_test_split(data, test_size = 0.3)"
   ]
  },
  {
   "cell_type": "code",
   "execution_count": 40,
   "metadata": {},
   "outputs": [],
   "source": [
    "def data_to_tensor(df,batch_size=32,shuffle=True):\n",
    "    df = df.copy()\n",
    "    data_x = df.drop(\"quality\", axis=1)\n",
    "    ts_data = tf.data.Dataset.from_tensor_slices((dict(data_x),df[\"quality\"]))\n",
    "    if shuffle:\n",
    "        ts_data = ts_data.shuffle(buffer_size=len(data))\n",
    "    ts_data = ts_data.batch(batch_size)\n",
    "    return ts_data"
   ]
  },
  {
   "cell_type": "code",
   "execution_count": 41,
   "metadata": {},
   "outputs": [],
   "source": [
    "train_ds = data_to_tensor(train)\n",
    "test_ds = data_to_tensor(test, shuffle=False)"
   ]
  },
  {
   "cell_type": "code",
   "execution_count": 49,
   "metadata": {},
   "outputs": [],
   "source": [
    "model = tf.keras.Sequential([\n",
    "    tf.keras.layers.DenseFeatures(feature_columns=feature_columns),\n",
    "    tf.keras.layers.Dense(128, activation='relu'),\n",
    "    tf.keras.layers.Dense(128, activation='relu'),\n",
    "    tf.keras.layers.Dense(128, activation='relu'),\n",
    "    tf.keras.layers.Dense(1, activation='linear')\n",
    "])"
   ]
  },
  {
   "cell_type": "code",
   "execution_count": 50,
   "metadata": {},
   "outputs": [],
   "source": [
    "model.compile(optimizer='adam',\n",
    "              loss='mae',\n",
    "              metrics=['mae'])"
   ]
  },
  {
   "cell_type": "code",
   "execution_count": 53,
   "metadata": {},
   "outputs": [
    {
     "name": "stdout",
     "output_type": "stream",
     "text": [
      "Epoch 1/10\n",
      "35/35 [==============================] - 0s 7ms/step - loss: 0.5546 - mae: 0.5546 - val_loss: 0.0000e+00 - val_mae: 0.0000e+00\n",
      "Epoch 2/10\n",
      "35/35 [==============================] - 0s 4ms/step - loss: 0.6236 - mae: 0.6198 - val_loss: 0.4803 - val_mae: 0.4803\n",
      "Epoch 3/10\n",
      "35/35 [==============================] - 0s 6ms/step - loss: 0.5444 - mae: 0.5442 - val_loss: 0.5166 - val_mae: 0.5166\n",
      "Epoch 4/10\n",
      "35/35 [==============================] - 0s 6ms/step - loss: 0.5371 - mae: 0.5425 - val_loss: 0.4966 - val_mae: 0.4966\n",
      "Epoch 5/10\n",
      "35/35 [==============================] - 0s 6ms/step - loss: 0.5515 - mae: 0.5524 - val_loss: 0.5604 - val_mae: 0.5604\n",
      "Epoch 6/10\n",
      "35/35 [==============================] - 0s 5ms/step - loss: 0.5488 - mae: 0.5453 - val_loss: 0.4789 - val_mae: 0.4789\n",
      "Epoch 7/10\n",
      "35/35 [==============================] - 0s 6ms/step - loss: 0.5404 - mae: 0.5427 - val_loss: 0.5341 - val_mae: 0.5341\n",
      "Epoch 8/10\n",
      "35/35 [==============================] - 0s 5ms/step - loss: 0.5497 - mae: 0.5478 - val_loss: 0.5350 - val_mae: 0.5350\n",
      "Epoch 9/10\n",
      "35/35 [==============================] - 0s 6ms/step - loss: 0.5452 - mae: 0.5472 - val_loss: 0.6224 - val_mae: 0.6224\n",
      "Epoch 10/10\n",
      "35/35 [==============================] - 0s 4ms/step - loss: 0.5660 - mae: 0.5640 - val_loss: 0.5052 - val_mae: 0.5052\n"
     ]
    },
    {
     "data": {
      "text/plain": [
       "<tensorflow.python.keras.callbacks.History at 0x7fe7a2215390>"
      ]
     },
     "execution_count": 53,
     "metadata": {},
     "output_type": "execute_result"
    }
   ],
   "source": [
    "model.fit(train_ds, validation_data = test_ds, epochs=10)"
   ]
  },
  {
   "cell_type": "code",
   "execution_count": 54,
   "metadata": {},
   "outputs": [],
   "source": [
    "from witwidget.notebook.visualization import WitConfigBuilder\n",
    "from witwidget.notebook.visualization import WitWidget\n"
   ]
  },
  {
   "cell_type": "code",
   "execution_count": 55,
   "metadata": {},
   "outputs": [],
   "source": [
    "import numpy as np\n",
    "def df_to_examples(df, columns=None):\n",
    "    examples = []\n",
    "    if columns == None:\n",
    "        columns = df.columns.values.tolist()\n",
    "    for index, row in df.iterrows():\n",
    "        example = tf.train.Example()\n",
    "        for col in columns:\n",
    "            if df[col].dtype is np.dtype(np.int64):\n",
    "                example.features.feature[col].int64_list.value.append(int(row[col]))\n",
    "            elif df[col].dtype is np.dtype(np.float64):\n",
    "                example.features.feature[col].float_list.value.append(row[col])\n",
    "            elif row[col] == row[col]:\n",
    "                example.features.feature[col].bytes_list.value.append(row[col].encode('utf-8'))\n",
    "        examples.append(example)\n",
    "    return examples"
   ]
  },
  {
   "cell_type": "code",
   "execution_count": 56,
   "metadata": {},
   "outputs": [],
   "source": [
    "example = df_to_examples(data)"
   ]
  },
  {
   "cell_type": "code",
   "execution_count": 61,
   "metadata": {},
   "outputs": [],
   "source": [
    "config_builder = WitConfigBuilder(example).set_estimator_and_feature_spec(\n",
    "    model, feature_input).set_target_feature('quality').set_model_type('regression')"
   ]
  },
  {
   "cell_type": "code",
   "execution_count": 62,
   "metadata": {},
   "outputs": [
    {
     "data": {
      "text/html": [
       "<style>.container { width:100% !important; }</style>"
      ],
      "text/plain": [
       "<IPython.core.display.HTML object>"
      ]
     },
     "metadata": {},
     "output_type": "display_data"
    },
    {
     "data": {
      "application/vnd.jupyter.widget-view+json": {
       "model_id": "6d97c70c14464dce905742678c03c27e",
       "version_major": 2,
       "version_minor": 0
      },
      "text/plain": [
       "WitWidget(config={'model_type': 'regression', 'label_vocab': [], 'are_sequence_examples': False, 'inference_ad…"
      ]
     },
     "metadata": {},
     "output_type": "display_data"
    }
   ],
   "source": [
    "WitWidget(config_builder, height=800)"
   ]
  },
  {
   "cell_type": "code",
   "execution_count": null,
   "metadata": {},
   "outputs": [],
   "source": []
  }
 ],
 "metadata": {
  "kernelspec": {
   "display_name": "Python 3",
   "language": "python",
   "name": "python3"
  },
  "language_info": {
   "codemirror_mode": {
    "name": "ipython",
    "version": 3
   },
   "file_extension": ".py",
   "mimetype": "text/x-python",
   "name": "python",
   "nbconvert_exporter": "python",
   "pygments_lexer": "ipython3",
   "version": "3.7.4"
  }
 },
 "nbformat": 4,
 "nbformat_minor": 4
}
